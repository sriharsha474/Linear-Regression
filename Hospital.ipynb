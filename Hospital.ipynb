{
 "cells": [
  {
   "cell_type": "code",
   "execution_count": 1,
   "metadata": {},
   "outputs": [],
   "source": [
    "import pandas as pd\n",
    "from sklearn.model_selection import train_test_split\n",
    "from sklearn.linear_model import LinearRegression\n",
    "import matplotlib.pyplot as plt\n",
    "import numpy as np"
   ]
  },
  {
   "cell_type": "code",
   "execution_count": 2,
   "metadata": {},
   "outputs": [],
   "source": [
    "data = pd.read_csv(r'D:\\Users\\703237795\\Harsha\\Files\\Hospital.csv')"
   ]
  },
  {
   "cell_type": "code",
   "execution_count": 3,
   "metadata": {},
   "outputs": [
    {
     "data": {
      "text/plain": [
       "(113, 12)"
      ]
     },
     "execution_count": 3,
     "metadata": {},
     "output_type": "execute_result"
    }
   ],
   "source": [
    "data.shape"
   ]
  },
  {
   "cell_type": "code",
   "execution_count": 4,
   "metadata": {},
   "outputs": [
    {
     "data": {
      "text/html": [
       "<div>\n",
       "<style scoped>\n",
       "    .dataframe tbody tr th:only-of-type {\n",
       "        vertical-align: middle;\n",
       "    }\n",
       "\n",
       "    .dataframe tbody tr th {\n",
       "        vertical-align: top;\n",
       "    }\n",
       "\n",
       "    .dataframe thead th {\n",
       "        text-align: right;\n",
       "    }\n",
       "</style>\n",
       "<table border=\"1\" class=\"dataframe\">\n",
       "  <thead>\n",
       "    <tr style=\"text-align: right;\">\n",
       "      <th></th>\n",
       "      <th>ID</th>\n",
       "      <th>Stay</th>\n",
       "      <th>Age</th>\n",
       "      <th>InfctRsk</th>\n",
       "      <th>Culture</th>\n",
       "      <th>Xray</th>\n",
       "      <th>Beds</th>\n",
       "      <th>MedSchool</th>\n",
       "      <th>Region</th>\n",
       "      <th>Census</th>\n",
       "      <th>Nurses</th>\n",
       "      <th>Facilities</th>\n",
       "    </tr>\n",
       "  </thead>\n",
       "  <tbody>\n",
       "    <tr>\n",
       "      <th>0</th>\n",
       "      <td>1</td>\n",
       "      <td>7.13</td>\n",
       "      <td>55.7</td>\n",
       "      <td>4.1</td>\n",
       "      <td>9.0</td>\n",
       "      <td>39.6</td>\n",
       "      <td>279</td>\n",
       "      <td>2</td>\n",
       "      <td>4</td>\n",
       "      <td>207</td>\n",
       "      <td>241</td>\n",
       "      <td>60.0</td>\n",
       "    </tr>\n",
       "    <tr>\n",
       "      <th>1</th>\n",
       "      <td>2</td>\n",
       "      <td>8.82</td>\n",
       "      <td>58.2</td>\n",
       "      <td>1.6</td>\n",
       "      <td>3.8</td>\n",
       "      <td>51.7</td>\n",
       "      <td>80</td>\n",
       "      <td>2</td>\n",
       "      <td>2</td>\n",
       "      <td>51</td>\n",
       "      <td>52</td>\n",
       "      <td>40.0</td>\n",
       "    </tr>\n",
       "    <tr>\n",
       "      <th>2</th>\n",
       "      <td>3</td>\n",
       "      <td>8.34</td>\n",
       "      <td>56.9</td>\n",
       "      <td>2.7</td>\n",
       "      <td>8.1</td>\n",
       "      <td>74.0</td>\n",
       "      <td>107</td>\n",
       "      <td>2</td>\n",
       "      <td>3</td>\n",
       "      <td>82</td>\n",
       "      <td>54</td>\n",
       "      <td>20.0</td>\n",
       "    </tr>\n",
       "    <tr>\n",
       "      <th>3</th>\n",
       "      <td>4</td>\n",
       "      <td>8.95</td>\n",
       "      <td>53.7</td>\n",
       "      <td>5.6</td>\n",
       "      <td>18.9</td>\n",
       "      <td>122.8</td>\n",
       "      <td>147</td>\n",
       "      <td>2</td>\n",
       "      <td>4</td>\n",
       "      <td>53</td>\n",
       "      <td>148</td>\n",
       "      <td>40.0</td>\n",
       "    </tr>\n",
       "    <tr>\n",
       "      <th>4</th>\n",
       "      <td>5</td>\n",
       "      <td>11.20</td>\n",
       "      <td>56.5</td>\n",
       "      <td>5.7</td>\n",
       "      <td>34.5</td>\n",
       "      <td>88.9</td>\n",
       "      <td>180</td>\n",
       "      <td>2</td>\n",
       "      <td>1</td>\n",
       "      <td>134</td>\n",
       "      <td>151</td>\n",
       "      <td>40.0</td>\n",
       "    </tr>\n",
       "  </tbody>\n",
       "</table>\n",
       "</div>"
      ],
      "text/plain": [
       "   ID   Stay   Age  InfctRsk  Culture   Xray  Beds  MedSchool  Region  Census  \\\n",
       "0   1   7.13  55.7       4.1      9.0   39.6   279          2       4     207   \n",
       "1   2   8.82  58.2       1.6      3.8   51.7    80          2       2      51   \n",
       "2   3   8.34  56.9       2.7      8.1   74.0   107          2       3      82   \n",
       "3   4   8.95  53.7       5.6     18.9  122.8   147          2       4      53   \n",
       "4   5  11.20  56.5       5.7     34.5   88.9   180          2       1     134   \n",
       "\n",
       "   Nurses  Facilities  \n",
       "0     241        60.0  \n",
       "1      52        40.0  \n",
       "2      54        20.0  \n",
       "3     148        40.0  \n",
       "4     151        40.0  "
      ]
     },
     "execution_count": 4,
     "metadata": {},
     "output_type": "execute_result"
    }
   ],
   "source": [
    "data.head()"
   ]
  },
  {
   "cell_type": "code",
   "execution_count": 5,
   "metadata": {},
   "outputs": [
    {
     "data": {
      "text/plain": [
       "ID              int64\n",
       "Stay          float64\n",
       "Age           float64\n",
       "InfctRsk      float64\n",
       "Culture       float64\n",
       "Xray          float64\n",
       "Beds            int64\n",
       "MedSchool       int64\n",
       "Region          int64\n",
       "Census          int64\n",
       "Nurses          int64\n",
       "Facilities    float64\n",
       "dtype: object"
      ]
     },
     "execution_count": 5,
     "metadata": {},
     "output_type": "execute_result"
    }
   ],
   "source": [
    "data.dtypes"
   ]
  },
  {
   "cell_type": "code",
   "execution_count": 6,
   "metadata": {},
   "outputs": [],
   "source": [
    "names=data.columns"
   ]
  },
  {
   "cell_type": "code",
   "execution_count": 7,
   "metadata": {},
   "outputs": [
    {
     "data": {
      "text/plain": [
       "ID            0\n",
       "Stay          0\n",
       "Age           0\n",
       "InfctRsk      0\n",
       "Culture       0\n",
       "Xray          0\n",
       "Beds          0\n",
       "MedSchool     0\n",
       "Region        0\n",
       "Census        0\n",
       "Nurses        0\n",
       "Facilities    0\n",
       "dtype: int64"
      ]
     },
     "execution_count": 7,
     "metadata": {},
     "output_type": "execute_result"
    }
   ],
   "source": [
    "data.isna().sum()"
   ]
  },
  {
   "cell_type": "code",
   "execution_count": 8,
   "metadata": {},
   "outputs": [
    {
     "data": {
      "image/png": "[encoded data removed]",
      "text/plain": [
       "<Figure size 720x720 with 12 Axes>"
      ]
     },
     "metadata": {
      "needs_background": "light"
     },
     "output_type": "display_data"
    }
   ],
   "source": [
    "data.hist(figsize=(10,10))\n",
    "plt.show()"
   ]
  },
  {
   "cell_type": "code",
   "execution_count": 9,
   "metadata": {},
   "outputs": [
    {
     "data": {
      "image/png": "[encoded data removed]",
      "text/plain": [
       "<Figure size 864x864 with 2 Axes>"
      ]
     },
     "metadata": {
      "needs_background": "light"
     },
     "output_type": "display_data"
    }
   ],
   "source": [
    "correlations = data.corr()\n",
    "fig = plt.figure(figsize=(12,12))\n",
    "ax = fig.add_subplot(111)\n",
    "cax = ax.matshow(correlations, vmin=-1, vmax=1)\n",
    "fig.colorbar(cax)\n",
    "ticks = np.arange(0,12,1)\n",
    "ax.set_xticks(ticks)\n",
    "ax.set_yticks(ticks)\n",
    "ax.set_xticklabels(names)\n",
    "ax.set_yticklabels(names)\n",
    "plt.show()"
   ]
  },
  {
   "cell_type": "code",
   "execution_count": 10,
   "metadata": {},
   "outputs": [
    {
     "data": {
      "text/html": [
       "<style  type=\"text/css\" >\n",
       "    #T_ad8c229a_7f08_11e9_bcb5_e4b97a43fa2erow0_col0 {\n",
       "            background-color:  #b40426;\n",
       "            color:  #f1f1f1;\n",
       "        }    #T_ad8c229a_7f08_11e9_bcb5_e4b97a43fa2erow0_col1 {\n",
       "            background-color:  #a3c2fe;\n",
       "            color:  #000000;\n",
       "        }    #T_ad8c229a_7f08_11e9_bcb5_e4b97a43fa2erow0_col2 {\n",
       "            background-color:  #80a3fa;\n",
       "            color:  #000000;\n",
       "        }    #T_ad8c229a_7f08_11e9_bcb5_e4b97a43fa2erow0_col3 {\n",
       "            background-color:  #3f53c6;\n",
       "            color:  #f1f1f1;\n",
       "        }    #T_ad8c229a_7f08_11e9_bcb5_e4b97a43fa2erow0_col4 {\n",
       "            background-color:  #4358cb;\n",
       "            color:  #f1f1f1;\n",
       "        }    #T_ad8c229a_7f08_11e9_bcb5_e4b97a43fa2erow0_col5 {\n",
       "            background-color:  #5977e3;\n",
       "            color:  #000000;\n",
       "        }    #T_ad8c229a_7f08_11e9_bcb5_e4b97a43fa2erow0_col6 {\n",
       "            background-color:  #afcafc;\n",
       "            color:  #000000;\n",
       "        }    #T_ad8c229a_7f08_11e9_bcb5_e4b97a43fa2erow0_col7 {\n",
       "            background-color:  #bbd1f8;\n",
       "            color:  #000000;\n",
       "        }    #T_ad8c229a_7f08_11e9_bcb5_e4b97a43fa2erow0_col8 {\n",
       "            background-color:  #bfd3f6;\n",
       "            color:  #000000;\n",
       "        }    #T_ad8c229a_7f08_11e9_bcb5_e4b97a43fa2erow0_col9 {\n",
       "            background-color:  #b5cdfa;\n",
       "            color:  #000000;\n",
       "        }    #T_ad8c229a_7f08_11e9_bcb5_e4b97a43fa2erow0_col10 {\n",
       "            background-color:  #9abbff;\n",
       "            color:  #000000;\n",
       "        }    #T_ad8c229a_7f08_11e9_bcb5_e4b97a43fa2erow0_col11 {\n",
       "            background-color:  #97b8ff;\n",
       "            color:  #000000;\n",
       "        }    #T_ad8c229a_7f08_11e9_bcb5_e4b97a43fa2erow1_col0 {\n",
       "            background-color:  #799cf8;\n",
       "            color:  #000000;\n",
       "        }    #T_ad8c229a_7f08_11e9_bcb5_e4b97a43fa2erow1_col1 {\n",
       "            background-color:  #b40426;\n",
       "            color:  #f1f1f1;\n",
       "        }    #T_ad8c229a_7f08_11e9_bcb5_e4b97a43fa2erow1_col2 {\n",
       "            background-color:  #abc8fd;\n",
       "            color:  #000000;\n",
       "        }    #T_ad8c229a_7f08_11e9_bcb5_e4b97a43fa2erow1_col3 {\n",
       "            background-color:  #f4c5ad;\n",
       "            color:  #000000;\n",
       "        }    #T_ad8c229a_7f08_11e9_bcb5_e4b97a43fa2erow1_col4 {\n",
       "            background-color:  #d9dce1;\n",
       "            color:  #000000;\n",
       "        }    #T_ad8c229a_7f08_11e9_bcb5_e4b97a43fa2erow1_col5 {\n",
       "            background-color:  #e3d9d3;\n",
       "            color:  #000000;\n",
       "        }    #T_ad8c229a_7f08_11e9_bcb5_e4b97a43fa2erow1_col6 {\n",
       "            background-color:  #f5c4ac;\n",
       "            color:  #000000;\n",
       "        }    #T_ad8c229a_7f08_11e9_bcb5_e4b97a43fa2erow1_col7 {\n",
       "            background-color:  #7a9df8;\n",
       "            color:  #000000;\n",
       "        }    #T_ad8c229a_7f08_11e9_bcb5_e4b97a43fa2erow1_col8 {\n",
       "            background-color:  #3b4cc0;\n",
       "            color:  #f1f1f1;\n",
       "        }    #T_ad8c229a_7f08_11e9_bcb5_e4b97a43fa2erow1_col9 {\n",
       "            background-color:  #f7b599;\n",
       "            color:  #000000;\n",
       "        }    #T_ad8c229a_7f08_11e9_bcb5_e4b97a43fa2erow1_col10 {\n",
       "            background-color:  #efcebd;\n",
       "            color:  #000000;\n",
       "        }    #T_ad8c229a_7f08_11e9_bcb5_e4b97a43fa2erow1_col11 {\n",
       "            background-color:  #eed0c0;\n",
       "            color:  #000000;\n",
       "        }    #T_ad8c229a_7f08_11e9_bcb5_e4b97a43fa2erow2_col0 {\n",
       "            background-color:  #89acfd;\n",
       "            color:  #000000;\n",
       "        }    #T_ad8c229a_7f08_11e9_bcb5_e4b97a43fa2erow2_col1 {\n",
       "            background-color:  #d1dae9;\n",
       "            color:  #000000;\n",
       "        }    #T_ad8c229a_7f08_11e9_bcb5_e4b97a43fa2erow2_col2 {\n",
       "            background-color:  #b40426;\n",
       "            color:  #f1f1f1;\n",
       "        }    #T_ad8c229a_7f08_11e9_bcb5_e4b97a43fa2erow2_col3 {\n",
       "            background-color:  #779af7;\n",
       "            color:  #000000;\n",
       "        }    #T_ad8c229a_7f08_11e9_bcb5_e4b97a43fa2erow2_col4 {\n",
       "            background-color:  #4e68d8;\n",
       "            color:  #000000;\n",
       "        }    #T_ad8c229a_7f08_11e9_bcb5_e4b97a43fa2erow2_col5 {\n",
       "            background-color:  #80a3fa;\n",
       "            color:  #000000;\n",
       "        }    #T_ad8c229a_7f08_11e9_bcb5_e4b97a43fa2erow2_col6 {\n",
       "            background-color:  #aac7fd;\n",
       "            color:  #000000;\n",
       "        }    #T_ad8c229a_7f08_11e9_bcb5_e4b97a43fa2erow2_col7 {\n",
       "            background-color:  #d5dbe5;\n",
       "            color:  #000000;\n",
       "        }    #T_ad8c229a_7f08_11e9_bcb5_e4b97a43fa2erow2_col8 {\n",
       "            background-color:  #a3c2fe;\n",
       "            color:  #000000;\n",
       "        }    #T_ad8c229a_7f08_11e9_bcb5_e4b97a43fa2erow2_col9 {\n",
       "            background-color:  #aec9fc;\n",
       "            color:  #000000;\n",
       "        }    #T_ad8c229a_7f08_11e9_bcb5_e4b97a43fa2erow2_col10 {\n",
       "            background-color:  #a5c3fe;\n",
       "            color:  #000000;\n",
       "        }    #T_ad8c229a_7f08_11e9_bcb5_e4b97a43fa2erow2_col11 {\n",
       "            background-color:  #a5c3fe;\n",
       "            color:  #000000;\n",
       "        }    #T_ad8c229a_7f08_11e9_bcb5_e4b97a43fa2erow3_col0 {\n",
       "            background-color:  #485fd1;\n",
       "            color:  #f1f1f1;\n",
       "        }    #T_ad8c229a_7f08_11e9_bcb5_e4b97a43fa2erow3_col1 {\n",
       "            background-color:  #f7b194;\n",
       "            color:  #000000;\n",
       "        }    #T_ad8c229a_7f08_11e9_bcb5_e4b97a43fa2erow3_col2 {\n",
       "            background-color:  #7699f6;\n",
       "            color:  #000000;\n",
       "        }    #T_ad8c229a_7f08_11e9_bcb5_e4b97a43fa2erow3_col3 {\n",
       "            background-color:  #b40426;\n",
       "            color:  #f1f1f1;\n",
       "        }    #T_ad8c229a_7f08_11e9_bcb5_e4b97a43fa2erow3_col4 {\n",
       "            background-color:  #f7b99e;\n",
       "            color:  #000000;\n",
       "        }    #T_ad8c229a_7f08_11e9_bcb5_e4b97a43fa2erow3_col5 {\n",
       "            background-color:  #efcfbf;\n",
       "            color:  #000000;\n",
       "        }    #T_ad8c229a_7f08_11e9_bcb5_e4b97a43fa2erow3_col6 {\n",
       "            background-color:  #f1ccb8;\n",
       "            color:  #000000;\n",
       "        }    #T_ad8c229a_7f08_11e9_bcb5_e4b97a43fa2erow3_col7 {\n",
       "            background-color:  #88abfd;\n",
       "            color:  #000000;\n",
       "        }    #T_ad8c229a_7f08_11e9_bcb5_e4b97a43fa2erow3_col8 {\n",
       "            background-color:  #7b9ff9;\n",
       "            color:  #000000;\n",
       "        }    #T_ad8c229a_7f08_11e9_bcb5_e4b97a43fa2erow3_col9 {\n",
       "            background-color:  #f3c7b1;\n",
       "            color:  #000000;\n",
       "        }    #T_ad8c229a_7f08_11e9_bcb5_e4b97a43fa2erow3_col10 {\n",
       "            background-color:  #f4c6af;\n",
       "            color:  #000000;\n",
       "        }    #T_ad8c229a_7f08_11e9_bcb5_e4b97a43fa2erow3_col11 {\n",
       "            background-color:  #f3c7b1;\n",
       "            color:  #000000;\n",
       "        }    #T_ad8c229a_7f08_11e9_bcb5_e4b97a43fa2erow4_col0 {\n",
       "            background-color:  #3b4cc0;\n",
       "            color:  #f1f1f1;\n",
       "        }    #T_ad8c229a_7f08_11e9_bcb5_e4b97a43fa2erow4_col1 {\n",
       "            background-color:  #e9d5cb;\n",
       "            color:  #000000;\n",
       "        }    #T_ad8c229a_7f08_11e9_bcb5_e4b97a43fa2erow4_col2 {\n",
       "            background-color:  #3b4cc0;\n",
       "            color:  #f1f1f1;\n",
       "        }    #T_ad8c229a_7f08_11e9_bcb5_e4b97a43fa2erow4_col3 {\n",
       "            background-color:  #f6bfa6;\n",
       "            color:  #000000;\n",
       "        }    #T_ad8c229a_7f08_11e9_bcb5_e4b97a43fa2erow4_col4 {\n",
       "            background-color:  #b40426;\n",
       "            color:  #f1f1f1;\n",
       "        }    #T_ad8c229a_7f08_11e9_bcb5_e4b97a43fa2erow4_col5 {\n",
       "            background-color:  #ead4c8;\n",
       "            color:  #000000;\n",
       "        }    #T_ad8c229a_7f08_11e9_bcb5_e4b97a43fa2erow4_col6 {\n",
       "            background-color:  #d2dbe8;\n",
       "            color:  #000000;\n",
       "        }    #T_ad8c229a_7f08_11e9_bcb5_e4b97a43fa2erow4_col7 {\n",
       "            background-color:  #85a8fc;\n",
       "            color:  #000000;\n",
       "        }    #T_ad8c229a_7f08_11e9_bcb5_e4b97a43fa2erow4_col8 {\n",
       "            background-color:  #6180e9;\n",
       "            color:  #000000;\n",
       "        }    #T_ad8c229a_7f08_11e9_bcb5_e4b97a43fa2erow4_col9 {\n",
       "            background-color:  #d5dbe5;\n",
       "            color:  #000000;\n",
       "        }    #T_ad8c229a_7f08_11e9_bcb5_e4b97a43fa2erow4_col10 {\n",
       "            background-color:  #dbdcde;\n",
       "            color:  #000000;\n",
       "        }    #T_ad8c229a_7f08_11e9_bcb5_e4b97a43fa2erow4_col11 {\n",
       "            background-color:  #d4dbe6;\n",
       "            color:  #000000;\n",
       "        }    #T_ad8c229a_7f08_11e9_bcb5_e4b97a43fa2erow5_col0 {\n",
       "            background-color:  #536edd;\n",
       "            color:  #000000;\n",
       "        }    #T_ad8c229a_7f08_11e9_bcb5_e4b97a43fa2erow5_col1 {\n",
       "            background-color:  #f0cdbb;\n",
       "            color:  #000000;\n",
       "        }    #T_ad8c229a_7f08_11e9_bcb5_e4b97a43fa2erow5_col2 {\n",
       "            background-color:  #7093f3;\n",
       "            color:  #000000;\n",
       "        }    #T_ad8c229a_7f08_11e9_bcb5_e4b97a43fa2erow5_col3 {\n",
       "            background-color:  #ead4c8;\n",
       "            color:  #000000;\n",
       "        }    #T_ad8c229a_7f08_11e9_bcb5_e4b97a43fa2erow5_col4 {\n",
       "            background-color:  #ebd3c6;\n",
       "            color:  #000000;\n",
       "        }    #T_ad8c229a_7f08_11e9_bcb5_e4b97a43fa2erow5_col5 {\n",
       "            background-color:  #b40426;\n",
       "            color:  #f1f1f1;\n",
       "        }    #T_ad8c229a_7f08_11e9_bcb5_e4b97a43fa2erow5_col6 {\n",
       "            background-color:  #c0d4f5;\n",
       "            color:  #000000;\n",
       "        }    #T_ad8c229a_7f08_11e9_bcb5_e4b97a43fa2erow5_col7 {\n",
       "            background-color:  #a7c5fe;\n",
       "            color:  #000000;\n",
       "        }    #T_ad8c229a_7f08_11e9_bcb5_e4b97a43fa2erow5_col8 {\n",
       "            background-color:  #6384eb;\n",
       "            color:  #000000;\n",
       "        }    #T_ad8c229a_7f08_11e9_bcb5_e4b97a43fa2erow5_col9 {\n",
       "            background-color:  #c6d6f1;\n",
       "            color:  #000000;\n",
       "        }    #T_ad8c229a_7f08_11e9_bcb5_e4b97a43fa2erow5_col10 {\n",
       "            background-color:  #c6d6f1;\n",
       "            color:  #000000;\n",
       "        }    #T_ad8c229a_7f08_11e9_bcb5_e4b97a43fa2erow5_col11 {\n",
       "            background-color:  #c5d6f2;\n",
       "            color:  #000000;\n",
       "        }    #T_ad8c229a_7f08_11e9_bcb5_e4b97a43fa2erow6_col0 {\n",
       "            background-color:  #7597f6;\n",
       "            color:  #000000;\n",
       "        }    #T_ad8c229a_7f08_11e9_bcb5_e4b97a43fa2erow6_col1 {\n",
       "            background-color:  #f2cab5;\n",
       "            color:  #000000;\n",
       "        }    #T_ad8c229a_7f08_11e9_bcb5_e4b97a43fa2erow6_col2 {\n",
       "            background-color:  #6485ec;\n",
       "            color:  #000000;\n",
       "        }    #T_ad8c229a_7f08_11e9_bcb5_e4b97a43fa2erow6_col3 {\n",
       "            background-color:  #d8dce2;\n",
       "            color:  #000000;\n",
       "        }    #T_ad8c229a_7f08_11e9_bcb5_e4b97a43fa2erow6_col4 {\n",
       "            background-color:  #adc9fd;\n",
       "            color:  #000000;\n",
       "        }    #T_ad8c229a_7f08_11e9_bcb5_e4b97a43fa2erow6_col5 {\n",
       "            background-color:  #92b4fe;\n",
       "            color:  #000000;\n",
       "        }    #T_ad8c229a_7f08_11e9_bcb5_e4b97a43fa2erow6_col6 {\n",
       "            background-color:  #b40426;\n",
       "            color:  #f1f1f1;\n",
       "        }    #T_ad8c229a_7f08_11e9_bcb5_e4b97a43fa2erow6_col7 {\n",
       "            background-color:  #3e51c5;\n",
       "            color:  #f1f1f1;\n",
       "        }    #T_ad8c229a_7f08_11e9_bcb5_e4b97a43fa2erow6_col8 {\n",
       "            background-color:  #90b2fe;\n",
       "            color:  #000000;\n",
       "        }    #T_ad8c229a_7f08_11e9_bcb5_e4b97a43fa2erow6_col9 {\n",
       "            background-color:  #b8122a;\n",
       "            color:  #f1f1f1;\n",
       "        }    #T_ad8c229a_7f08_11e9_bcb5_e4b97a43fa2erow6_col10 {\n",
       "            background-color:  #c73635;\n",
       "            color:  #f1f1f1;\n",
       "        }    #T_ad8c229a_7f08_11e9_bcb5_e4b97a43fa2erow6_col11 {\n",
       "            background-color:  #e0654f;\n",
       "            color:  #000000;\n",
       "        }    #T_ad8c229a_7f08_11e9_bcb5_e4b97a43fa2erow7_col0 {\n",
       "            background-color:  #81a4fb;\n",
       "            color:  #000000;\n",
       "        }    #T_ad8c229a_7f08_11e9_bcb5_e4b97a43fa2erow7_col1 {\n",
       "            background-color:  #6384eb;\n",
       "            color:  #000000;\n",
       "        }    #T_ad8c229a_7f08_11e9_bcb5_e4b97a43fa2erow7_col2 {\n",
       "            background-color:  #9fbfff;\n",
       "            color:  #000000;\n",
       "        }    #T_ad8c229a_7f08_11e9_bcb5_e4b97a43fa2erow7_col3 {\n",
       "            background-color:  #3b4cc0;\n",
       "            color:  #f1f1f1;\n",
       "        }    #T_ad8c229a_7f08_11e9_bcb5_e4b97a43fa2erow7_col4 {\n",
       "            background-color:  #4961d2;\n",
       "            color:  #f1f1f1;\n",
       "        }    #T_ad8c229a_7f08_11e9_bcb5_e4b97a43fa2erow7_col5 {\n",
       "            background-color:  #6e90f2;\n",
       "            color:  #000000;\n",
       "        }    #T_ad8c229a_7f08_11e9_bcb5_e4b97a43fa2erow7_col6 {\n",
       "            background-color:  #3b4cc0;\n",
       "            color:  #f1f1f1;\n",
       "        }    #T_ad8c229a_7f08_11e9_bcb5_e4b97a43fa2erow7_col7 {\n",
       "            background-color:  #b40426;\n",
       "            color:  #f1f1f1;\n",
       "        }    #T_ad8c229a_7f08_11e9_bcb5_e4b97a43fa2erow7_col8 {\n",
       "            background-color:  #c0d4f5;\n",
       "            color:  #000000;\n",
       "        }    #T_ad8c229a_7f08_11e9_bcb5_e4b97a43fa2erow7_col9 {\n",
       "            background-color:  #3b4cc0;\n",
       "            color:  #f1f1f1;\n",
       "        }    #T_ad8c229a_7f08_11e9_bcb5_e4b97a43fa2erow7_col10 {\n",
       "            background-color:  #3b4cc0;\n",
       "            color:  #f1f1f1;\n",
       "        }    #T_ad8c229a_7f08_11e9_bcb5_e4b97a43fa2erow7_col11 {\n",
       "            background-color:  #3b4cc0;\n",
       "            color:  #f1f1f1;\n",
       "        }    #T_ad8c229a_7f08_11e9_bcb5_e4b97a43fa2erow8_col0 {\n",
       "            background-color:  #9bbcff;\n",
       "            color:  #000000;\n",
       "        }    #T_ad8c229a_7f08_11e9_bcb5_e4b97a43fa2erow8_col1 {\n",
       "            background-color:  #3b4cc0;\n",
       "            color:  #f1f1f1;\n",
       "        }    #T_ad8c229a_7f08_11e9_bcb5_e4b97a43fa2erow8_col2 {\n",
       "            background-color:  #6f92f3;\n",
       "            color:  #000000;\n",
       "        }    #T_ad8c229a_7f08_11e9_bcb5_e4b97a43fa2erow8_col3 {\n",
       "            background-color:  #445acc;\n",
       "            color:  #f1f1f1;\n",
       "        }    #T_ad8c229a_7f08_11e9_bcb5_e4b97a43fa2erow8_col4 {\n",
       "            background-color:  #3b4cc0;\n",
       "            color:  #f1f1f1;\n",
       "        }    #T_ad8c229a_7f08_11e9_bcb5_e4b97a43fa2erow8_col5 {\n",
       "            background-color:  #3b4cc0;\n",
       "            color:  #f1f1f1;\n",
       "        }    #T_ad8c229a_7f08_11e9_bcb5_e4b97a43fa2erow8_col6 {\n",
       "            background-color:  #a1c0ff;\n",
       "            color:  #000000;\n",
       "        }    #T_ad8c229a_7f08_11e9_bcb5_e4b97a43fa2erow8_col7 {\n",
       "            background-color:  #cdd9ec;\n",
       "            color:  #000000;\n",
       "        }    #T_ad8c229a_7f08_11e9_bcb5_e4b97a43fa2erow8_col8 {\n",
       "            background-color:  #b40426;\n",
       "            color:  #f1f1f1;\n",
       "        }    #T_ad8c229a_7f08_11e9_bcb5_e4b97a43fa2erow8_col9 {\n",
       "            background-color:  #9abbff;\n",
       "            color:  #000000;\n",
       "        }    #T_ad8c229a_7f08_11e9_bcb5_e4b97a43fa2erow8_col10 {\n",
       "            background-color:  #9ebeff;\n",
       "            color:  #000000;\n",
       "        }    #T_ad8c229a_7f08_11e9_bcb5_e4b97a43fa2erow8_col11 {\n",
       "            background-color:  #7da0f9;\n",
       "            color:  #000000;\n",
       "        }    #T_ad8c229a_7f08_11e9_bcb5_e4b97a43fa2erow9_col0 {\n",
       "            background-color:  #779af7;\n",
       "            color:  #000000;\n",
       "        }    #T_ad8c229a_7f08_11e9_bcb5_e4b97a43fa2erow9_col1 {\n",
       "            background-color:  #f6bea4;\n",
       "            color:  #000000;\n",
       "        }    #T_ad8c229a_7f08_11e9_bcb5_e4b97a43fa2erow9_col2 {\n",
       "            background-color:  #6687ed;\n",
       "            color:  #000000;\n",
       "        }    #T_ad8c229a_7f08_11e9_bcb5_e4b97a43fa2erow9_col3 {\n",
       "            background-color:  #dcdddd;\n",
       "            color:  #000000;\n",
       "        }    #T_ad8c229a_7f08_11e9_bcb5_e4b97a43fa2erow9_col4 {\n",
       "            background-color:  #aec9fc;\n",
       "            color:  #000000;\n",
       "        }    #T_ad8c229a_7f08_11e9_bcb5_e4b97a43fa2erow9_col5 {\n",
       "            background-color:  #96b7ff;\n",
       "            color:  #000000;\n",
       "        }    #T_ad8c229a_7f08_11e9_bcb5_e4b97a43fa2erow9_col6 {\n",
       "            background-color:  #b8122a;\n",
       "            color:  #f1f1f1;\n",
       "        }    #T_ad8c229a_7f08_11e9_bcb5_e4b97a43fa2erow9_col7 {\n",
       "            background-color:  #3b4cc0;\n",
       "            color:  #f1f1f1;\n",
       "        }    #T_ad8c229a_7f08_11e9_bcb5_e4b97a43fa2erow9_col8 {\n",
       "            background-color:  #85a8fc;\n",
       "            color:  #000000;\n",
       "        }    #T_ad8c229a_7f08_11e9_bcb5_e4b97a43fa2erow9_col9 {\n",
       "            background-color:  #b40426;\n",
       "            color:  #f1f1f1;\n",
       "        }    #T_ad8c229a_7f08_11e9_bcb5_e4b97a43fa2erow9_col10 {\n",
       "            background-color:  #c83836;\n",
       "            color:  #f1f1f1;\n",
       "        }    #T_ad8c229a_7f08_11e9_bcb5_e4b97a43fa2erow9_col11 {\n",
       "            background-color:  #e36b54;\n",
       "            color:  #000000;\n",
       "        }    #T_ad8c229a_7f08_11e9_bcb5_e4b97a43fa2erow10_col0 {\n",
       "            background-color:  #5b7ae5;\n",
       "            color:  #000000;\n",
       "        }    #T_ad8c229a_7f08_11e9_bcb5_e4b97a43fa2erow10_col1 {\n",
       "            background-color:  #ead4c8;\n",
       "            color:  #000000;\n",
       "        }    #T_ad8c229a_7f08_11e9_bcb5_e4b97a43fa2erow10_col2 {\n",
       "            background-color:  #5e7de7;\n",
       "            color:  #000000;\n",
       "        }    #T_ad8c229a_7f08_11e9_bcb5_e4b97a43fa2erow10_col3 {\n",
       "            background-color:  #dfdbd9;\n",
       "            color:  #000000;\n",
       "        }    #T_ad8c229a_7f08_11e9_bcb5_e4b97a43fa2erow10_col4 {\n",
       "            background-color:  #bcd2f7;\n",
       "            color:  #000000;\n",
       "        }    #T_ad8c229a_7f08_11e9_bcb5_e4b97a43fa2erow10_col5 {\n",
       "            background-color:  #9abbff;\n",
       "            color:  #000000;\n",
       "        }    #T_ad8c229a_7f08_11e9_bcb5_e4b97a43fa2erow10_col6 {\n",
       "            background-color:  #c73635;\n",
       "            color:  #f1f1f1;\n",
       "        }    #T_ad8c229a_7f08_11e9_bcb5_e4b97a43fa2erow10_col7 {\n",
       "            background-color:  #3f53c6;\n",
       "            color:  #f1f1f1;\n",
       "        }    #T_ad8c229a_7f08_11e9_bcb5_e4b97a43fa2erow10_col8 {\n",
       "            background-color:  #8fb1fe;\n",
       "            color:  #000000;\n",
       "        }    #T_ad8c229a_7f08_11e9_bcb5_e4b97a43fa2erow10_col9 {\n",
       "            background-color:  #c83836;\n",
       "            color:  #f1f1f1;\n",
       "        }    #T_ad8c229a_7f08_11e9_bcb5_e4b97a43fa2erow10_col10 {\n",
       "            background-color:  #b40426;\n",
       "            color:  #f1f1f1;\n",
       "        }    #T_ad8c229a_7f08_11e9_bcb5_e4b97a43fa2erow10_col11 {\n",
       "            background-color:  #e26952;\n",
       "            color:  #000000;\n",
       "        }    #T_ad8c229a_7f08_11e9_bcb5_e4b97a43fa2erow11_col0 {\n",
       "            background-color:  #6485ec;\n",
       "            color:  #000000;\n",
       "        }    #T_ad8c229a_7f08_11e9_bcb5_e4b97a43fa2erow11_col1 {\n",
       "            background-color:  #edd2c3;\n",
       "            color:  #000000;\n",
       "        }    #T_ad8c229a_7f08_11e9_bcb5_e4b97a43fa2erow11_col2 {\n",
       "            background-color:  #6a8bef;\n",
       "            color:  #000000;\n",
       "        }    #T_ad8c229a_7f08_11e9_bcb5_e4b97a43fa2erow11_col3 {\n",
       "            background-color:  #e3d9d3;\n",
       "            color:  #000000;\n",
       "        }    #T_ad8c229a_7f08_11e9_bcb5_e4b97a43fa2erow11_col4 {\n",
       "            background-color:  #b9d0f9;\n",
       "            color:  #000000;\n",
       "        }    #T_ad8c229a_7f08_11e9_bcb5_e4b97a43fa2erow11_col5 {\n",
       "            background-color:  #a3c2fe;\n",
       "            color:  #000000;\n",
       "        }    #T_ad8c229a_7f08_11e9_bcb5_e4b97a43fa2erow11_col6 {\n",
       "            background-color:  #df634e;\n",
       "            color:  #000000;\n",
       "        }    #T_ad8c229a_7f08_11e9_bcb5_e4b97a43fa2erow11_col7 {\n",
       "            background-color:  #4b64d5;\n",
       "            color:  #f1f1f1;\n",
       "        }    #T_ad8c229a_7f08_11e9_bcb5_e4b97a43fa2erow11_col8 {\n",
       "            background-color:  #779af7;\n",
       "            color:  #000000;\n",
       "        }    #T_ad8c229a_7f08_11e9_bcb5_e4b97a43fa2erow11_col9 {\n",
       "            background-color:  #e16751;\n",
       "            color:  #000000;\n",
       "        }    #T_ad8c229a_7f08_11e9_bcb5_e4b97a43fa2erow11_col10 {\n",
       "            background-color:  #e0654f;\n",
       "            color:  #000000;\n",
       "        }    #T_ad8c229a_7f08_11e9_bcb5_e4b97a43fa2erow11_col11 {\n",
       "            background-color:  #b40426;\n",
       "            color:  #f1f1f1;\n",
       "        }</style><table id=\"T_ad8c229a_7f08_11e9_bcb5_e4b97a43fa2e\" ><thead>    <tr>        <th class=\"blank level0\" ></th>        <th class=\"col_heading level0 col0\" >ID</th>        <th class=\"col_heading level0 col1\" >Stay</th>        <th class=\"col_heading level0 col2\" >Age</th>        <th class=\"col_heading level0 col3\" >InfctRsk</th>        <th class=\"col_heading level0 col4\" >Culture</th>        <th class=\"col_heading level0 col5\" >Xray</th>        <th class=\"col_heading level0 col6\" >Beds</th>        <th class=\"col_heading level0 col7\" >MedSchool</th>        <th class=\"col_heading level0 col8\" >Region</th>        <th class=\"col_heading level0 col9\" >Census</th>        <th class=\"col_heading level0 col10\" >Nurses</th>        <th class=\"col_heading level0 col11\" >Facilities</th>    </tr></thead><tbody>\n",
       "                <tr>\n",
       "                        <th id=\"T_ad8c229a_7f08_11e9_bcb5_e4b97a43fa2elevel0_row0\" class=\"row_heading level0 row0\" >ID</th>\n",
       "                        <td id=\"T_ad8c229a_7f08_11e9_bcb5_e4b97a43fa2erow0_col0\" class=\"data row0 col0\" >1</td>\n",
       "                        <td id=\"T_ad8c229a_7f08_11e9_bcb5_e4b97a43fa2erow0_col1\" class=\"data row0 col1\" >-0.0223872</td>\n",
       "                        <td id=\"T_ad8c229a_7f08_11e9_bcb5_e4b97a43fa2erow0_col2\" class=\"data row0 col2\" >0.037258</td>\n",
       "                        <td id=\"T_ad8c229a_7f08_11e9_bcb5_e4b97a43fa2erow0_col3\" class=\"data row0 col3\" >-0.211316</td>\n",
       "                        <td id=\"T_ad8c229a_7f08_11e9_bcb5_e4b97a43fa2erow0_col4\" class=\"data row0 col4\" >-0.267415</td>\n",
       "                        <td id=\"T_ad8c229a_7f08_11e9_bcb5_e4b97a43fa2erow0_col5\" class=\"data row0 col5\" >-0.16602</td>\n",
       "                        <td id=\"T_ad8c229a_7f08_11e9_bcb5_e4b97a43fa2erow0_col6\" class=\"data row0 col6\" >-0.0356529</td>\n",
       "                        <td id=\"T_ad8c229a_7f08_11e9_bcb5_e4b97a43fa2erow0_col7\" class=\"data row0 col7\" >0.00607098</td>\n",
       "                        <td id=\"T_ad8c229a_7f08_11e9_bcb5_e4b97a43fa2erow0_col8\" class=\"data row0 col8\" >0.101505</td>\n",
       "                        <td id=\"T_ad8c229a_7f08_11e9_bcb5_e4b97a43fa2erow0_col9\" class=\"data row0 col9\" >-0.027056</td>\n",
       "                        <td id=\"T_ad8c229a_7f08_11e9_bcb5_e4b97a43fa2erow0_col10\" class=\"data row0 col10\" >-0.133531</td>\n",
       "                        <td id=\"T_ad8c229a_7f08_11e9_bcb5_e4b97a43fa2erow0_col11\" class=\"data row0 col11\" >-0.0978575</td>\n",
       "            </tr>\n",
       "            <tr>\n",
       "                        <th id=\"T_ad8c229a_7f08_11e9_bcb5_e4b97a43fa2elevel0_row1\" class=\"row_heading level0 row1\" >Stay</th>\n",
       "                        <td id=\"T_ad8c229a_7f08_11e9_bcb5_e4b97a43fa2erow1_col0\" class=\"data row1 col0\" >-0.0223872</td>\n",
       "                        <td id=\"T_ad8c229a_7f08_11e9_bcb5_e4b97a43fa2erow1_col1\" class=\"data row1 col1\" >1</td>\n",
       "                        <td id=\"T_ad8c229a_7f08_11e9_bcb5_e4b97a43fa2erow1_col2\" class=\"data row1 col2\" >0.188914</td>\n",
       "                        <td id=\"T_ad8c229a_7f08_11e9_bcb5_e4b97a43fa2erow1_col3\" class=\"data row1 col3\" >0.533444</td>\n",
       "                        <td id=\"T_ad8c229a_7f08_11e9_bcb5_e4b97a43fa2erow1_col4\" class=\"data row1 col4\" >0.326684</td>\n",
       "                        <td id=\"T_ad8c229a_7f08_11e9_bcb5_e4b97a43fa2erow1_col5\" class=\"data row1 col5\" >0.382482</td>\n",
       "                        <td id=\"T_ad8c229a_7f08_11e9_bcb5_e4b97a43fa2erow1_col6\" class=\"data row1 col6\" >0.409265</td>\n",
       "                        <td id=\"T_ad8c229a_7f08_11e9_bcb5_e4b97a43fa2erow1_col7\" class=\"data row1 col7\" >-0.296951</td>\n",
       "                        <td id=\"T_ad8c229a_7f08_11e9_bcb5_e4b97a43fa2erow1_col8\" class=\"data row1 col8\" >-0.49213</td>\n",
       "                        <td id=\"T_ad8c229a_7f08_11e9_bcb5_e4b97a43fa2erow1_col9\" class=\"data row1 col9\" >0.473885</td>\n",
       "                        <td id=\"T_ad8c229a_7f08_11e9_bcb5_e4b97a43fa2erow1_col10\" class=\"data row1 col10\" >0.340367</td>\n",
       "                        <td id=\"T_ad8c229a_7f08_11e9_bcb5_e4b97a43fa2erow1_col11\" class=\"data row1 col11\" >0.355538</td>\n",
       "            </tr>\n",
       "            <tr>\n",
       "                        <th id=\"T_ad8c229a_7f08_11e9_bcb5_e4b97a43fa2elevel0_row2\" class=\"row_heading level0 row2\" >Age</th>\n",
       "                        <td id=\"T_ad8c229a_7f08_11e9_bcb5_e4b97a43fa2erow2_col0\" class=\"data row2 col0\" >0.037258</td>\n",
       "                        <td id=\"T_ad8c229a_7f08_11e9_bcb5_e4b97a43fa2erow2_col1\" class=\"data row2 col1\" >0.188914</td>\n",
       "                        <td id=\"T_ad8c229a_7f08_11e9_bcb5_e4b97a43fa2erow2_col2\" class=\"data row2 col2\" >1</td>\n",
       "                        <td id=\"T_ad8c229a_7f08_11e9_bcb5_e4b97a43fa2erow2_col3\" class=\"data row2 col3\" >0.00109317</td>\n",
       "                        <td id=\"T_ad8c229a_7f08_11e9_bcb5_e4b97a43fa2erow2_col4\" class=\"data row2 col4\" >-0.225847</td>\n",
       "                        <td id=\"T_ad8c229a_7f08_11e9_bcb5_e4b97a43fa2erow2_col5\" class=\"data row2 col5\" >-0.0188549</td>\n",
       "                        <td id=\"T_ad8c229a_7f08_11e9_bcb5_e4b97a43fa2erow2_col6\" class=\"data row2 col6\" >-0.0588232</td>\n",
       "                        <td id=\"T_ad8c229a_7f08_11e9_bcb5_e4b97a43fa2erow2_col7\" class=\"data row2 col7\" >0.145126</td>\n",
       "                        <td id=\"T_ad8c229a_7f08_11e9_bcb5_e4b97a43fa2erow2_col8\" class=\"data row2 col8\" >-0.0204319</td>\n",
       "                        <td id=\"T_ad8c229a_7f08_11e9_bcb5_e4b97a43fa2erow2_col9\" class=\"data row2 col9\" >-0.0547747</td>\n",
       "                        <td id=\"T_ad8c229a_7f08_11e9_bcb5_e4b97a43fa2erow2_col10\" class=\"data row2 col10\" >-0.0829446</td>\n",
       "                        <td id=\"T_ad8c229a_7f08_11e9_bcb5_e4b97a43fa2erow2_col11\" class=\"data row2 col11\" >-0.0404514</td>\n",
       "            </tr>\n",
       "            <tr>\n",
       "                        <th id=\"T_ad8c229a_7f08_11e9_bcb5_e4b97a43fa2elevel0_row3\" class=\"row_heading level0 row3\" >InfctRsk</th>\n",
       "                        <td id=\"T_ad8c229a_7f08_11e9_bcb5_e4b97a43fa2erow3_col0\" class=\"data row3 col0\" >-0.211316</td>\n",
       "                        <td id=\"T_ad8c229a_7f08_11e9_bcb5_e4b97a43fa2erow3_col1\" class=\"data row3 col1\" >0.533444</td>\n",
       "                        <td id=\"T_ad8c229a_7f08_11e9_bcb5_e4b97a43fa2erow3_col2\" class=\"data row3 col2\" >0.00109317</td>\n",
       "                        <td id=\"T_ad8c229a_7f08_11e9_bcb5_e4b97a43fa2erow3_col3\" class=\"data row3 col3\" >1</td>\n",
       "                        <td id=\"T_ad8c229a_7f08_11e9_bcb5_e4b97a43fa2erow3_col4\" class=\"data row3 col4\" >0.559159</td>\n",
       "                        <td id=\"T_ad8c229a_7f08_11e9_bcb5_e4b97a43fa2erow3_col5\" class=\"data row3 col5\" >0.453392</td>\n",
       "                        <td id=\"T_ad8c229a_7f08_11e9_bcb5_e4b97a43fa2erow3_col6\" class=\"data row3 col6\" >0.35977</td>\n",
       "                        <td id=\"T_ad8c229a_7f08_11e9_bcb5_e4b97a43fa2erow3_col7\" class=\"data row3 col7\" >-0.23303</td>\n",
       "                        <td id=\"T_ad8c229a_7f08_11e9_bcb5_e4b97a43fa2erow3_col8\" class=\"data row3 col8\" >-0.192281</td>\n",
       "                        <td id=\"T_ad8c229a_7f08_11e9_bcb5_e4b97a43fa2erow3_col9\" class=\"data row3 col9\" >0.381411</td>\n",
       "                        <td id=\"T_ad8c229a_7f08_11e9_bcb5_e4b97a43fa2erow3_col10\" class=\"data row3 col10\" >0.393981</td>\n",
       "                        <td id=\"T_ad8c229a_7f08_11e9_bcb5_e4b97a43fa2erow3_col11\" class=\"data row3 col11\" >0.412601</td>\n",
       "            </tr>\n",
       "            <tr>\n",
       "                        <th id=\"T_ad8c229a_7f08_11e9_bcb5_e4b97a43fa2elevel0_row4\" class=\"row_heading level0 row4\" >Culture</th>\n",
       "                        <td id=\"T_ad8c229a_7f08_11e9_bcb5_e4b97a43fa2erow4_col0\" class=\"data row4 col0\" >-0.267415</td>\n",
       "                        <td id=\"T_ad8c229a_7f08_11e9_bcb5_e4b97a43fa2erow4_col1\" class=\"data row4 col1\" >0.326684</td>\n",
       "                        <td id=\"T_ad8c229a_7f08_11e9_bcb5_e4b97a43fa2erow4_col2\" class=\"data row4 col2\" >-0.225847</td>\n",
       "                        <td id=\"T_ad8c229a_7f08_11e9_bcb5_e4b97a43fa2erow4_col3\" class=\"data row4 col3\" >0.559159</td>\n",
       "                        <td id=\"T_ad8c229a_7f08_11e9_bcb5_e4b97a43fa2erow4_col4\" class=\"data row4 col4\" >1</td>\n",
       "                        <td id=\"T_ad8c229a_7f08_11e9_bcb5_e4b97a43fa2erow4_col5\" class=\"data row4 col5\" >0.424962</td>\n",
       "                        <td id=\"T_ad8c229a_7f08_11e9_bcb5_e4b97a43fa2erow4_col6\" class=\"data row4 col6\" >0.139725</td>\n",
       "                        <td id=\"T_ad8c229a_7f08_11e9_bcb5_e4b97a43fa2erow4_col7\" class=\"data row4 col7\" >-0.242744</td>\n",
       "                        <td id=\"T_ad8c229a_7f08_11e9_bcb5_e4b97a43fa2erow4_col8\" class=\"data row4 col8\" >-0.308278</td>\n",
       "                        <td id=\"T_ad8c229a_7f08_11e9_bcb5_e4b97a43fa2erow4_col9\" class=\"data row4 col9\" >0.142948</td>\n",
       "                        <td id=\"T_ad8c229a_7f08_11e9_bcb5_e4b97a43fa2erow4_col10\" class=\"data row4 col10\" >0.1989</td>\n",
       "                        <td id=\"T_ad8c229a_7f08_11e9_bcb5_e4b97a43fa2erow4_col11\" class=\"data row4 col11\" >0.185131</td>\n",
       "            </tr>\n",
       "            <tr>\n",
       "                        <th id=\"T_ad8c229a_7f08_11e9_bcb5_e4b97a43fa2elevel0_row5\" class=\"row_heading level0 row5\" >Xray</th>\n",
       "                        <td id=\"T_ad8c229a_7f08_11e9_bcb5_e4b97a43fa2erow5_col0\" class=\"data row5 col0\" >-0.16602</td>\n",
       "                        <td id=\"T_ad8c229a_7f08_11e9_bcb5_e4b97a43fa2erow5_col1\" class=\"data row5 col1\" >0.382482</td>\n",
       "                        <td id=\"T_ad8c229a_7f08_11e9_bcb5_e4b97a43fa2erow5_col2\" class=\"data row5 col2\" >-0.0188549</td>\n",
       "                        <td id=\"T_ad8c229a_7f08_11e9_bcb5_e4b97a43fa2erow5_col3\" class=\"data row5 col3\" >0.453392</td>\n",
       "                        <td id=\"T_ad8c229a_7f08_11e9_bcb5_e4b97a43fa2erow5_col4\" class=\"data row5 col4\" >0.424962</td>\n",
       "                        <td id=\"T_ad8c229a_7f08_11e9_bcb5_e4b97a43fa2erow5_col5\" class=\"data row5 col5\" >1</td>\n",
       "                        <td id=\"T_ad8c229a_7f08_11e9_bcb5_e4b97a43fa2erow5_col6\" class=\"data row5 col6\" >0.04582</td>\n",
       "                        <td id=\"T_ad8c229a_7f08_11e9_bcb5_e4b97a43fa2erow5_col7\" class=\"data row5 col7\" >-0.0866966</td>\n",
       "                        <td id=\"T_ad8c229a_7f08_11e9_bcb5_e4b97a43fa2erow5_col8\" class=\"data row5 col8\" >-0.296344</td>\n",
       "                        <td id=\"T_ad8c229a_7f08_11e9_bcb5_e4b97a43fa2erow5_col9\" class=\"data row5 col9\" >0.0629135</td>\n",
       "                        <td id=\"T_ad8c229a_7f08_11e9_bcb5_e4b97a43fa2erow5_col10\" class=\"data row5 col10\" >0.0773813</td>\n",
       "                        <td id=\"T_ad8c229a_7f08_11e9_bcb5_e4b97a43fa2erow5_col11\" class=\"data row5 col11\" >0.111928</td>\n",
       "            </tr>\n",
       "            <tr>\n",
       "                        <th id=\"T_ad8c229a_7f08_11e9_bcb5_e4b97a43fa2elevel0_row6\" class=\"row_heading level0 row6\" >Beds</th>\n",
       "                        <td id=\"T_ad8c229a_7f08_11e9_bcb5_e4b97a43fa2erow6_col0\" class=\"data row6 col0\" >-0.0356529</td>\n",
       "                        <td id=\"T_ad8c229a_7f08_11e9_bcb5_e4b97a43fa2erow6_col1\" class=\"data row6 col1\" >0.409265</td>\n",
       "                        <td id=\"T_ad8c229a_7f08_11e9_bcb5_e4b97a43fa2erow6_col2\" class=\"data row6 col2\" >-0.0588232</td>\n",
       "                        <td id=\"T_ad8c229a_7f08_11e9_bcb5_e4b97a43fa2erow6_col3\" class=\"data row6 col3\" >0.35977</td>\n",
       "                        <td id=\"T_ad8c229a_7f08_11e9_bcb5_e4b97a43fa2erow6_col4\" class=\"data row6 col4\" >0.139725</td>\n",
       "                        <td id=\"T_ad8c229a_7f08_11e9_bcb5_e4b97a43fa2erow6_col5\" class=\"data row6 col5\" >0.04582</td>\n",
       "                        <td id=\"T_ad8c229a_7f08_11e9_bcb5_e4b97a43fa2erow6_col6\" class=\"data row6 col6\" >1</td>\n",
       "                        <td id=\"T_ad8c229a_7f08_11e9_bcb5_e4b97a43fa2erow6_col7\" class=\"data row6 col7\" >-0.59118</td>\n",
       "                        <td id=\"T_ad8c229a_7f08_11e9_bcb5_e4b97a43fa2erow6_col8\" class=\"data row6 col8\" >-0.105627</td>\n",
       "                        <td id=\"T_ad8c229a_7f08_11e9_bcb5_e4b97a43fa2erow6_col9\" class=\"data row6 col9\" >0.980998</td>\n",
       "                        <td id=\"T_ad8c229a_7f08_11e9_bcb5_e4b97a43fa2erow6_col10\" class=\"data row6 col10\" >0.915504</td>\n",
       "                        <td id=\"T_ad8c229a_7f08_11e9_bcb5_e4b97a43fa2erow6_col11\" class=\"data row6 col11\" >0.794524</td>\n",
       "            </tr>\n",
       "            <tr>\n",
       "                        <th id=\"T_ad8c229a_7f08_11e9_bcb5_e4b97a43fa2elevel0_row7\" class=\"row_heading level0 row7\" >MedSchool</th>\n",
       "                        <td id=\"T_ad8c229a_7f08_11e9_bcb5_e4b97a43fa2erow7_col0\" class=\"data row7 col0\" >0.00607098</td>\n",
       "                        <td id=\"T_ad8c229a_7f08_11e9_bcb5_e4b97a43fa2erow7_col1\" class=\"data row7 col1\" >-0.296951</td>\n",
       "                        <td id=\"T_ad8c229a_7f08_11e9_bcb5_e4b97a43fa2erow7_col2\" class=\"data row7 col2\" >0.145126</td>\n",
       "                        <td id=\"T_ad8c229a_7f08_11e9_bcb5_e4b97a43fa2erow7_col3\" class=\"data row7 col3\" >-0.23303</td>\n",
       "                        <td id=\"T_ad8c229a_7f08_11e9_bcb5_e4b97a43fa2erow7_col4\" class=\"data row7 col4\" >-0.242744</td>\n",
       "                        <td id=\"T_ad8c229a_7f08_11e9_bcb5_e4b97a43fa2erow7_col5\" class=\"data row7 col5\" >-0.0866966</td>\n",
       "                        <td id=\"T_ad8c229a_7f08_11e9_bcb5_e4b97a43fa2erow7_col6\" class=\"data row7 col6\" >-0.59118</td>\n",
       "                        <td id=\"T_ad8c229a_7f08_11e9_bcb5_e4b97a43fa2erow7_col7\" class=\"data row7 col7\" >1</td>\n",
       "                        <td id=\"T_ad8c229a_7f08_11e9_bcb5_e4b97a43fa2erow7_col8\" class=\"data row7 col8\" >0.102668</td>\n",
       "                        <td id=\"T_ad8c229a_7f08_11e9_bcb5_e4b97a43fa2erow7_col9\" class=\"data row7 col9\" >-0.614757</td>\n",
       "                        <td id=\"T_ad8c229a_7f08_11e9_bcb5_e4b97a43fa2erow7_col10\" class=\"data row7 col10\" >-0.58824</td>\n",
       "                        <td id=\"T_ad8c229a_7f08_11e9_bcb5_e4b97a43fa2erow7_col11\" class=\"data row7 col11\" >-0.52439</td>\n",
       "            </tr>\n",
       "            <tr>\n",
       "                        <th id=\"T_ad8c229a_7f08_11e9_bcb5_e4b97a43fa2elevel0_row8\" class=\"row_heading level0 row8\" >Region</th>\n",
       "                        <td id=\"T_ad8c229a_7f08_11e9_bcb5_e4b97a43fa2erow8_col0\" class=\"data row8 col0\" >0.101505</td>\n",
       "                        <td id=\"T_ad8c229a_7f08_11e9_bcb5_e4b97a43fa2erow8_col1\" class=\"data row8 col1\" >-0.49213</td>\n",
       "                        <td id=\"T_ad8c229a_7f08_11e9_bcb5_e4b97a43fa2erow8_col2\" class=\"data row8 col2\" >-0.0204319</td>\n",
       "                        <td id=\"T_ad8c229a_7f08_11e9_bcb5_e4b97a43fa2erow8_col3\" class=\"data row8 col3\" >-0.192281</td>\n",
       "                        <td id=\"T_ad8c229a_7f08_11e9_bcb5_e4b97a43fa2erow8_col4\" class=\"data row8 col4\" >-0.308278</td>\n",
       "                        <td id=\"T_ad8c229a_7f08_11e9_bcb5_e4b97a43fa2erow8_col5\" class=\"data row8 col5\" >-0.296344</td>\n",
       "                        <td id=\"T_ad8c229a_7f08_11e9_bcb5_e4b97a43fa2erow8_col6\" class=\"data row8 col6\" >-0.105627</td>\n",
       "                        <td id=\"T_ad8c229a_7f08_11e9_bcb5_e4b97a43fa2erow8_col7\" class=\"data row8 col7\" >0.102668</td>\n",
       "                        <td id=\"T_ad8c229a_7f08_11e9_bcb5_e4b97a43fa2erow8_col8\" class=\"data row8 col8\" >1</td>\n",
       "                        <td id=\"T_ad8c229a_7f08_11e9_bcb5_e4b97a43fa2erow8_col9\" class=\"data row8 col9\" >-0.152744</td>\n",
       "                        <td id=\"T_ad8c229a_7f08_11e9_bcb5_e4b97a43fa2erow8_col10\" class=\"data row8 col10\" >-0.112681</td>\n",
       "                        <td id=\"T_ad8c229a_7f08_11e9_bcb5_e4b97a43fa2erow8_col11\" class=\"data row8 col11\" >-0.211532</td>\n",
       "            </tr>\n",
       "            <tr>\n",
       "                        <th id=\"T_ad8c229a_7f08_11e9_bcb5_e4b97a43fa2elevel0_row9\" class=\"row_heading level0 row9\" >Census</th>\n",
       "                        <td id=\"T_ad8c229a_7f08_11e9_bcb5_e4b97a43fa2erow9_col0\" class=\"data row9 col0\" >-0.027056</td>\n",
       "                        <td id=\"T_ad8c229a_7f08_11e9_bcb5_e4b97a43fa2erow9_col1\" class=\"data row9 col1\" >0.473885</td>\n",
       "                        <td id=\"T_ad8c229a_7f08_11e9_bcb5_e4b97a43fa2erow9_col2\" class=\"data row9 col2\" >-0.0547747</td>\n",
       "                        <td id=\"T_ad8c229a_7f08_11e9_bcb5_e4b97a43fa2erow9_col3\" class=\"data row9 col3\" >0.381411</td>\n",
       "                        <td id=\"T_ad8c229a_7f08_11e9_bcb5_e4b97a43fa2erow9_col4\" class=\"data row9 col4\" >0.142948</td>\n",
       "                        <td id=\"T_ad8c229a_7f08_11e9_bcb5_e4b97a43fa2erow9_col5\" class=\"data row9 col5\" >0.0629135</td>\n",
       "                        <td id=\"T_ad8c229a_7f08_11e9_bcb5_e4b97a43fa2erow9_col6\" class=\"data row9 col6\" >0.980998</td>\n",
       "                        <td id=\"T_ad8c229a_7f08_11e9_bcb5_e4b97a43fa2erow9_col7\" class=\"data row9 col7\" >-0.614757</td>\n",
       "                        <td id=\"T_ad8c229a_7f08_11e9_bcb5_e4b97a43fa2erow9_col8\" class=\"data row9 col8\" >-0.152744</td>\n",
       "                        <td id=\"T_ad8c229a_7f08_11e9_bcb5_e4b97a43fa2erow9_col9\" class=\"data row9 col9\" >1</td>\n",
       "                        <td id=\"T_ad8c229a_7f08_11e9_bcb5_e4b97a43fa2erow9_col10\" class=\"data row9 col10\" >0.907897</td>\n",
       "                        <td id=\"T_ad8c229a_7f08_11e9_bcb5_e4b97a43fa2erow9_col11\" class=\"data row9 col11\" >0.778063</td>\n",
       "            </tr>\n",
       "            <tr>\n",
       "                        <th id=\"T_ad8c229a_7f08_11e9_bcb5_e4b97a43fa2elevel0_row10\" class=\"row_heading level0 row10\" >Nurses</th>\n",
       "                        <td id=\"T_ad8c229a_7f08_11e9_bcb5_e4b97a43fa2erow10_col0\" class=\"data row10 col0\" >-0.133531</td>\n",
       "                        <td id=\"T_ad8c229a_7f08_11e9_bcb5_e4b97a43fa2erow10_col1\" class=\"data row10 col1\" >0.340367</td>\n",
       "                        <td id=\"T_ad8c229a_7f08_11e9_bcb5_e4b97a43fa2erow10_col2\" class=\"data row10 col2\" >-0.0829446</td>\n",
       "                        <td id=\"T_ad8c229a_7f08_11e9_bcb5_e4b97a43fa2erow10_col3\" class=\"data row10 col3\" >0.393981</td>\n",
       "                        <td id=\"T_ad8c229a_7f08_11e9_bcb5_e4b97a43fa2erow10_col4\" class=\"data row10 col4\" >0.1989</td>\n",
       "                        <td id=\"T_ad8c229a_7f08_11e9_bcb5_e4b97a43fa2erow10_col5\" class=\"data row10 col5\" >0.0773813</td>\n",
       "                        <td id=\"T_ad8c229a_7f08_11e9_bcb5_e4b97a43fa2erow10_col6\" class=\"data row10 col6\" >0.915504</td>\n",
       "                        <td id=\"T_ad8c229a_7f08_11e9_bcb5_e4b97a43fa2erow10_col7\" class=\"data row10 col7\" >-0.58824</td>\n",
       "                        <td id=\"T_ad8c229a_7f08_11e9_bcb5_e4b97a43fa2erow10_col8\" class=\"data row10 col8\" >-0.112681</td>\n",
       "                        <td id=\"T_ad8c229a_7f08_11e9_bcb5_e4b97a43fa2erow10_col9\" class=\"data row10 col9\" >0.907897</td>\n",
       "                        <td id=\"T_ad8c229a_7f08_11e9_bcb5_e4b97a43fa2erow10_col10\" class=\"data row10 col10\" >1</td>\n",
       "                        <td id=\"T_ad8c229a_7f08_11e9_bcb5_e4b97a43fa2erow10_col11\" class=\"data row10 col11\" >0.783505</td>\n",
       "            </tr>\n",
       "            <tr>\n",
       "                        <th id=\"T_ad8c229a_7f08_11e9_bcb5_e4b97a43fa2elevel0_row11\" class=\"row_heading level0 row11\" >Facilities</th>\n",
       "                        <td id=\"T_ad8c229a_7f08_11e9_bcb5_e4b97a43fa2erow11_col0\" class=\"data row11 col0\" >-0.0978575</td>\n",
       "                        <td id=\"T_ad8c229a_7f08_11e9_bcb5_e4b97a43fa2erow11_col1\" class=\"data row11 col1\" >0.355538</td>\n",
       "                        <td id=\"T_ad8c229a_7f08_11e9_bcb5_e4b97a43fa2erow11_col2\" class=\"data row11 col2\" >-0.0404514</td>\n",
       "                        <td id=\"T_ad8c229a_7f08_11e9_bcb5_e4b97a43fa2erow11_col3\" class=\"data row11 col3\" >0.412601</td>\n",
       "                        <td id=\"T_ad8c229a_7f08_11e9_bcb5_e4b97a43fa2erow11_col4\" class=\"data row11 col4\" >0.185131</td>\n",
       "                        <td id=\"T_ad8c229a_7f08_11e9_bcb5_e4b97a43fa2erow11_col5\" class=\"data row11 col5\" >0.111928</td>\n",
       "                        <td id=\"T_ad8c229a_7f08_11e9_bcb5_e4b97a43fa2erow11_col6\" class=\"data row11 col6\" >0.794524</td>\n",
       "                        <td id=\"T_ad8c229a_7f08_11e9_bcb5_e4b97a43fa2erow11_col7\" class=\"data row11 col7\" >-0.52439</td>\n",
       "                        <td id=\"T_ad8c229a_7f08_11e9_bcb5_e4b97a43fa2erow11_col8\" class=\"data row11 col8\" >-0.211532</td>\n",
       "                        <td id=\"T_ad8c229a_7f08_11e9_bcb5_e4b97a43fa2erow11_col9\" class=\"data row11 col9\" >0.778063</td>\n",
       "                        <td id=\"T_ad8c229a_7f08_11e9_bcb5_e4b97a43fa2erow11_col10\" class=\"data row11 col10\" >0.783505</td>\n",
       "                        <td id=\"T_ad8c229a_7f08_11e9_bcb5_e4b97a43fa2erow11_col11\" class=\"data row11 col11\" >1</td>\n",
       "            </tr>\n",
       "    </tbody></table>"
      ],
      "text/plain": [
       "<pandas.io.formats.style.Styler at 0x15bad760d30>"
      ]
     },
     "execution_count": 10,
     "metadata": {},
     "output_type": "execute_result"
    }
   ],
   "source": [
    "corr = data.corr()\n",
    "corr.style.background_gradient(cmap='coolwarm')"
   ]
  },
  {
   "cell_type": "code",
   "execution_count": 11,
   "metadata": {},
   "outputs": [
    {
     "data": {
      "image/png": "[encoded data removed]",
      "text/plain": [
       "<Figure size 1440x1440 with 15 Axes>"
      ]
     },
     "metadata": {
      "needs_background": "light"
     },
     "output_type": "display_data"
    }
   ],
   "source": [
    "data.plot(kind='box', subplots=True, layout=(1,15), figsize=(20,20),sharex=False, sharey=False)\n",
    "plt.show()"
   ]
  },
  {
   "cell_type": "code",
   "execution_count": 12,
   "metadata": {},
   "outputs": [],
   "source": [
    "y = data['InfctRsk'].values\n",
    "X = data.drop(columns = ['InfctRsk','ID'])"
   ]
  },
  {
   "cell_type": "code",
   "execution_count": 13,
   "metadata": {},
   "outputs": [
    {
     "name": "stdout",
     "output_type": "stream",
     "text": [
      "(113,)\n",
      "(113, 10)\n"
     ]
    }
   ],
   "source": [
    "print(y.shape)\n",
    "print(X.shape)"
   ]
  },
  {
   "cell_type": "code",
   "execution_count": 14,
   "metadata": {},
   "outputs": [
    {
     "name": "stdout",
     "output_type": "stream",
     "text": [
      "(79, 10)\n",
      "(34, 10)\n",
      "(79,)\n",
      "(34,)\n"
     ]
    }
   ],
   "source": [
    "X_train, X_test, y_train, y_test = train_test_split(X, y, test_size=0.3, random_state=101)\n",
    "print(X_train.shape)\n",
    "print(X_test.shape)\n",
    "print(y_train.shape)\n",
    "print(y_test.shape)"
   ]
  },
  {
   "cell_type": "code",
   "execution_count": 15,
   "metadata": {},
   "outputs": [],
   "source": [
    "lin_model = LinearRegression()\n",
    "result = lin_model.fit(X_train, y_train)"
   ]
  },
  {
   "cell_type": "code",
   "execution_count": 16,
   "metadata": {},
   "outputs": [],
   "source": [
    "from sklearn.metrics import mean_squared_error ,r2_score"
   ]
  },
  {
   "cell_type": "code",
   "execution_count": 17,
   "metadata": {},
   "outputs": [],
   "source": [
    "y_pred = lin_model.predict(X_test)"
   ]
  },
  {
   "cell_type": "code",
   "execution_count": 18,
   "metadata": {},
   "outputs": [
    {
     "name": "stdout",
     "output_type": "stream",
     "text": [
      "0.5977173170182751\n"
     ]
    }
   ],
   "source": [
    "t=mean_squared_error(y_test,y_pred)\n",
    "print(t)"
   ]
  },
  {
   "cell_type": "code",
   "execution_count": 19,
   "metadata": {},
   "outputs": [],
   "source": [
    "from math import sqrt"
   ]
  },
  {
   "cell_type": "code",
   "execution_count": 20,
   "metadata": {},
   "outputs": [
    {
     "data": {
      "text/plain": [
       "0.7731217996009911"
      ]
     },
     "execution_count": 20,
     "metadata": {},
     "output_type": "execute_result"
    }
   ],
   "source": [
    "sqrt(t)"
   ]
  },
  {
   "cell_type": "code",
   "execution_count": 21,
   "metadata": {},
   "outputs": [
    {
     "data": {
      "text/plain": [
       "0.6176810481587758"
      ]
     },
     "execution_count": 21,
     "metadata": {},
     "output_type": "execute_result"
    }
   ],
   "source": [
    "r2_score(y_test,y_pred)"
   ]
  },
  {
   "cell_type": "code",
   "execution_count": 22,
   "metadata": {},
   "outputs": [],
   "source": [
    "def vif_cal(input_data, dependent_col):\n",
    "    x_vars=input_data.drop([dependent_col], axis=1)\n",
    "    xvar_names=x_vars.columns\n",
    "    for i in range(0,xvar_names.shape[0]):\n",
    "        y=x_vars[xvar_names[i]] \n",
    "        x=x_vars[xvar_names.drop(xvar_names[i])]\n",
    "        rsq=sm.ols(formula=\"y~x\", data=x_vars).fit().rsquared  \n",
    "        vif=round(1/(1-rsq),2)\n",
    "        print (xvar_names[i], \" VIF = \" , vif)"
   ]
  },
  {
   "cell_type": "code",
   "execution_count": 23,
   "metadata": {},
   "outputs": [
    {
     "name": "stderr",
     "output_type": "stream",
     "text": [
      "D:\\Users\\703237795\\AppData\\Local\\Continuum\\anaconda3\\lib\\site-packages\\ipykernel_launcher.py:1: SettingWithCopyWarning: \n",
      "A value is trying to be set on a copy of a slice from a DataFrame.\n",
      "Try using .loc[row_indexer,col_indexer] = value instead\n",
      "\n",
      "See the caveats in the documentation: http://pandas.pydata.org/pandas-docs/stable/indexing.html#indexing-view-versus-copy\n",
      "  \"\"\"Entry point for launching an IPython kernel.\n"
     ]
    }
   ],
   "source": [
    "X_train['InfctRsk'] = y_train"
   ]
  },
  {
   "cell_type": "code",
   "execution_count": 24,
   "metadata": {},
   "outputs": [
    {
     "data": {
      "text/html": [
       "<div>\n",
       "<style scoped>\n",
       "    .dataframe tbody tr th:only-of-type {\n",
       "        vertical-align: middle;\n",
       "    }\n",
       "\n",
       "    .dataframe tbody tr th {\n",
       "        vertical-align: top;\n",
       "    }\n",
       "\n",
       "    .dataframe thead th {\n",
       "        text-align: right;\n",
       "    }\n",
       "</style>\n",
       "<table border=\"1\" class=\"dataframe\">\n",
       "  <thead>\n",
       "    <tr style=\"text-align: right;\">\n",
       "      <th></th>\n",
       "      <th>Stay</th>\n",
       "      <th>Age</th>\n",
       "      <th>Culture</th>\n",
       "      <th>Xray</th>\n",
       "      <th>Beds</th>\n",
       "      <th>MedSchool</th>\n",
       "      <th>Region</th>\n",
       "      <th>Census</th>\n",
       "      <th>Nurses</th>\n",
       "      <th>Facilities</th>\n",
       "      <th>InfctRsk</th>\n",
       "    </tr>\n",
       "  </thead>\n",
       "  <tbody>\n",
       "    <tr>\n",
       "      <th>99</th>\n",
       "      <td>10.15</td>\n",
       "      <td>51.9</td>\n",
       "      <td>16.4</td>\n",
       "      <td>59.2</td>\n",
       "      <td>568</td>\n",
       "      <td>1</td>\n",
       "      <td>3</td>\n",
       "      <td>452</td>\n",
       "      <td>371</td>\n",
       "      <td>62.9</td>\n",
       "      <td>6.2</td>\n",
       "    </tr>\n",
       "    <tr>\n",
       "      <th>53</th>\n",
       "      <td>12.07</td>\n",
       "      <td>43.7</td>\n",
       "      <td>52.4</td>\n",
       "      <td>105.3</td>\n",
       "      <td>157</td>\n",
       "      <td>2</td>\n",
       "      <td>2</td>\n",
       "      <td>115</td>\n",
       "      <td>76</td>\n",
       "      <td>31.4</td>\n",
       "      <td>7.8</td>\n",
       "    </tr>\n",
       "    <tr>\n",
       "      <th>61</th>\n",
       "      <td>11.18</td>\n",
       "      <td>51.0</td>\n",
       "      <td>18.8</td>\n",
       "      <td>55.9</td>\n",
       "      <td>595</td>\n",
       "      <td>1</td>\n",
       "      <td>2</td>\n",
       "      <td>546</td>\n",
       "      <td>392</td>\n",
       "      <td>68.6</td>\n",
       "      <td>5.7</td>\n",
       "    </tr>\n",
       "    <tr>\n",
       "      <th>82</th>\n",
       "      <td>7.63</td>\n",
       "      <td>52.1</td>\n",
       "      <td>11.6</td>\n",
       "      <td>61.1</td>\n",
       "      <td>197</td>\n",
       "      <td>2</td>\n",
       "      <td>4</td>\n",
       "      <td>109</td>\n",
       "      <td>110</td>\n",
       "      <td>45.7</td>\n",
       "      <td>5.5</td>\n",
       "    </tr>\n",
       "    <tr>\n",
       "      <th>68</th>\n",
       "      <td>9.61</td>\n",
       "      <td>52.4</td>\n",
       "      <td>6.9</td>\n",
       "      <td>87.2</td>\n",
       "      <td>487</td>\n",
       "      <td>2</td>\n",
       "      <td>3</td>\n",
       "      <td>404</td>\n",
       "      <td>220</td>\n",
       "      <td>48.6</td>\n",
       "      <td>4.5</td>\n",
       "    </tr>\n",
       "  </tbody>\n",
       "</table>\n",
       "</div>"
      ],
      "text/plain": [
       "     Stay   Age  Culture   Xray  Beds  MedSchool  Region  Census  Nurses  \\\n",
       "99  10.15  51.9     16.4   59.2   568          1       3     452     371   \n",
       "53  12.07  43.7     52.4  105.3   157          2       2     115      76   \n",
       "61  11.18  51.0     18.8   55.9   595          1       2     546     392   \n",
       "82   7.63  52.1     11.6   61.1   197          2       4     109     110   \n",
       "68   9.61  52.4      6.9   87.2   487          2       3     404     220   \n",
       "\n",
       "    Facilities  InfctRsk  \n",
       "99        62.9       6.2  \n",
       "53        31.4       7.8  \n",
       "61        68.6       5.7  \n",
       "82        45.7       5.5  \n",
       "68        48.6       4.5  "
      ]
     },
     "execution_count": 24,
     "metadata": {},
     "output_type": "execute_result"
    }
   ],
   "source": [
    "X_train.head()"
   ]
  },
  {
   "cell_type": "code",
   "execution_count": 25,
   "metadata": {},
   "outputs": [],
   "source": [
    "import statsmodels.formula.api as sm"
   ]
  },
  {
   "cell_type": "code",
   "execution_count": 26,
   "metadata": {},
   "outputs": [
    {
     "name": "stdout",
     "output_type": "stream",
     "text": [
      "Stay  VIF =  3.18\n",
      "Age  VIF =  1.34\n",
      "Culture  VIF =  1.81\n",
      "Xray  VIF =  1.48\n",
      "Beds  VIF =  36.89\n",
      "MedSchool  VIF =  1.88\n",
      "Region  VIF =  1.85\n",
      "Census  VIF =  37.3\n",
      "Nurses  VIF =  8.36\n",
      "Facilities  VIF =  3.39\n"
     ]
    }
   ],
   "source": [
    "vif_cal(input_data=X_train, dependent_col=\"InfctRsk\")"
   ]
  },
  {
   "cell_type": "code",
   "execution_count": 27,
   "metadata": {},
   "outputs": [],
   "source": [
    "y1 = data['InfctRsk'].values\n",
    "X1 = data.drop(columns = ['InfctRsk','ID','Census'])"
   ]
  },
  {
   "cell_type": "code",
   "execution_count": null,
   "metadata": {},
   "outputs": [],
   "source": [
    "print(y1.shape)\n",
    "print(X1.shape)"
   ]
  },
  {
   "cell_type": "code",
   "execution_count": 28,
   "metadata": {},
   "outputs": [
    {
     "name": "stdout",
     "output_type": "stream",
     "text": [
      "(79, 9)\n",
      "(34, 9)\n",
      "(79,)\n",
      "(34,)\n"
     ]
    }
   ],
   "source": [
    "X1_train, X1_test, y1_train, y1_test = train_test_split(X1, y1, test_size=0.3, random_state=101)\n",
    "print(X1_train.shape)\n",
    "print(X1_test.shape)\n",
    "print(y1_train.shape)\n",
    "print(y1_test.shape)"
   ]
  },
  {
   "cell_type": "code",
   "execution_count": 29,
   "metadata": {},
   "outputs": [],
   "source": [
    "lin_model1 = LinearRegression()\n",
    "result1 = lin_model.fit(X1_train, y1_train)"
   ]
  },
  {
   "cell_type": "code",
   "execution_count": 30,
   "metadata": {},
   "outputs": [],
   "source": [
    "y1_pred = lin_model.predict(X1_test)"
   ]
  },
  {
   "cell_type": "code",
   "execution_count": 31,
   "metadata": {},
   "outputs": [
    {
     "name": "stdout",
     "output_type": "stream",
     "text": [
      "0.6057689171045784\n"
     ]
    }
   ],
   "source": [
    "t1=mean_squared_error(y1_test,y1_pred)\n",
    "print(t1)"
   ]
  },
  {
   "cell_type": "code",
   "execution_count": 32,
   "metadata": {},
   "outputs": [
    {
     "data": {
      "text/plain": [
       "0.7783115809909155"
      ]
     },
     "execution_count": 32,
     "metadata": {},
     "output_type": "execute_result"
    }
   ],
   "source": [
    "sqrt(t1)"
   ]
  },
  {
   "cell_type": "code",
   "execution_count": 33,
   "metadata": {},
   "outputs": [
    {
     "data": {
      "text/plain": [
       "0.6125309893968911"
      ]
     },
     "execution_count": 33,
     "metadata": {},
     "output_type": "execute_result"
    }
   ],
   "source": [
    "r2_score(y1_test,y1_pred)"
   ]
  },
  {
   "cell_type": "code",
   "execution_count": 34,
   "metadata": {},
   "outputs": [
    {
     "name": "stderr",
     "output_type": "stream",
     "text": [
      "D:\\Users\\703237795\\AppData\\Local\\Continuum\\anaconda3\\lib\\site-packages\\ipykernel_launcher.py:1: SettingWithCopyWarning: \n",
      "A value is trying to be set on a copy of a slice from a DataFrame.\n",
      "Try using .loc[row_indexer,col_indexer] = value instead\n",
      "\n",
      "See the caveats in the documentation: http://pandas.pydata.org/pandas-docs/stable/indexing.html#indexing-view-versus-copy\n",
      "  \"\"\"Entry point for launching an IPython kernel.\n"
     ]
    }
   ],
   "source": [
    "X1_train['InfctRsk'] =y1_train"
   ]
  },
  {
   "cell_type": "code",
   "execution_count": 35,
   "metadata": {},
   "outputs": [
    {
     "name": "stdout",
     "output_type": "stream",
     "text": [
      "Stay  VIF =  2.64\n",
      "Age  VIF =  1.3\n",
      "Culture  VIF =  1.64\n",
      "Xray  VIF =  1.48\n",
      "Beds  VIF =  9.68\n",
      "MedSchool  VIF =  1.8\n",
      "Region  VIF =  1.84\n",
      "Nurses  VIF =  8.22\n",
      "Facilities  VIF =  3.39\n"
     ]
    }
   ],
   "source": [
    "vif_cal(input_data=X1_train, dependent_col=\"InfctRsk\")"
   ]
  },
  {
   "cell_type": "code",
   "execution_count": null,
   "metadata": {},
   "outputs": [],
   "source": []
  },
  {
   "cell_type": "code",
   "execution_count": null,
   "metadata": {},
   "outputs": [],
   "source": []
  },
  {
   "cell_type": "code",
   "execution_count": null,
   "metadata": {},
   "outputs": [],
   "source": []
  },
  {
   "cell_type": "code",
   "execution_count": null,
   "metadata": {},
   "outputs": [],
   "source": [
    "from statsmodels.stats.outliers_influence import variance_inflation_factor"
   ]
  },
  {
   "cell_type": "code",
   "execution_count": null,
   "metadata": {},
   "outputs": [],
   "source": [
    "vif = pd.DataFrame()\n",
    "vif[\"VIF Factor\"] = [variance_inflation_factor(X_train.values, i) for i in range(X_train.shape[1])]\n",
    "vif[\"features\"] = X.columns"
   ]
  },
  {
   "cell_type": "code",
   "execution_count": null,
   "metadata": {},
   "outputs": [],
   "source": [
    "vif"
   ]
  },
  {
   "cell_type": "code",
   "execution_count": null,
   "metadata": {},
   "outputs": [],
   "source": [
    "#Taking Age out from VIF"
   ]
  }
 ],
 "metadata": {
  "kernelspec": {
   "display_name": "Python 3",
   "language": "python",
   "name": "python3"
  },
  "language_info": {
   "codemirror_mode": {
    "name": "ipython",
    "version": 3
   },
   "file_extension": ".py",
   "mimetype": "text/x-python",
   "name": "python",
   "nbconvert_exporter": "python",
   "pygments_lexer": "ipython3",
   "version": "3.7.3"
  }
 },
 "nbformat": 4,
 "nbformat_minor": 2
}
